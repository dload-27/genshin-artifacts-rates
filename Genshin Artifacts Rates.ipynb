{
 "cells": [
  {
   "cell_type": "markdown",
   "metadata": {},
   "source": [
    "### All data was taken from \"Data Gathering | Genshin Impact\" Discord server (https://discord.gg/ydwdYmr). \n",
    "### Thanks to all the people from the server and Acheron-X for the data."
   ]
  },
  {
   "cell_type": "markdown",
   "metadata": {},
   "source": [
    "## Dependecies Imports"
   ]
  },
  {
   "cell_type": "code",
   "execution_count": 496,
   "metadata": {},
   "outputs": [],
   "source": [
    "import pandas as pd\n",
    "import numpy as np\n",
    "import matplotlib.pyplot as plt\n",
    "import math"
   ]
  },
  {
   "cell_type": "markdown",
   "metadata": {},
   "source": [
    "## File to dataframe"
   ]
  },
  {
   "cell_type": "code",
   "execution_count": 490,
   "metadata": {},
   "outputs": [
    {
     "data": {
      "text/html": [
       "<div>\n",
       "<style scoped>\n",
       "    .dataframe tbody tr th:only-of-type {\n",
       "        vertical-align: middle;\n",
       "    }\n",
       "\n",
       "    .dataframe tbody tr th {\n",
       "        vertical-align: top;\n",
       "    }\n",
       "\n",
       "    .dataframe thead th {\n",
       "        text-align: right;\n",
       "    }\n",
       "</style>\n",
       "<table border=\"1\" class=\"dataframe\">\n",
       "  <thead>\n",
       "    <tr style=\"text-align: right;\">\n",
       "      <th></th>\n",
       "      <th>Artifact Type</th>\n",
       "      <th>★</th>\n",
       "      <th>Main Stat</th>\n",
       "      <th>Substat 1</th>\n",
       "      <th>Substat 2</th>\n",
       "      <th>Substat 3</th>\n",
       "      <th>Substat 4</th>\n",
       "    </tr>\n",
       "  </thead>\n",
       "  <tbody>\n",
       "    <tr>\n",
       "      <th>0</th>\n",
       "      <td>Flower</td>\n",
       "      <td>5</td>\n",
       "      <td>HP</td>\n",
       "      <td>CR</td>\n",
       "      <td>CD</td>\n",
       "      <td>EM</td>\n",
       "      <td>DEF%</td>\n",
       "    </tr>\n",
       "    <tr>\n",
       "      <th>1</th>\n",
       "      <td>Feather</td>\n",
       "      <td>5</td>\n",
       "      <td>ATK</td>\n",
       "      <td>ATK%</td>\n",
       "      <td>DEF%</td>\n",
       "      <td>CD</td>\n",
       "      <td>DEF</td>\n",
       "    </tr>\n",
       "    <tr>\n",
       "      <th>2</th>\n",
       "      <td>Flower</td>\n",
       "      <td>4</td>\n",
       "      <td>HP</td>\n",
       "      <td>DEF</td>\n",
       "      <td>DEF%</td>\n",
       "      <td>ER</td>\n",
       "      <td>NaN</td>\n",
       "    </tr>\n",
       "    <tr>\n",
       "      <th>3</th>\n",
       "      <td>Flower</td>\n",
       "      <td>4</td>\n",
       "      <td>HP</td>\n",
       "      <td>ER</td>\n",
       "      <td>EM</td>\n",
       "      <td>CR</td>\n",
       "      <td>NaN</td>\n",
       "    </tr>\n",
       "    <tr>\n",
       "      <th>4</th>\n",
       "      <td>Goblet</td>\n",
       "      <td>4</td>\n",
       "      <td>HP%</td>\n",
       "      <td>ER</td>\n",
       "      <td>EM</td>\n",
       "      <td>DEF%</td>\n",
       "      <td>NaN</td>\n",
       "    </tr>\n",
       "  </tbody>\n",
       "</table>\n",
       "</div>"
      ],
      "text/plain": [
       "  Artifact Type  ★ Main Stat Substat 1 Substat 2 Substat 3 Substat 4\n",
       "0        Flower  5        HP        CR        CD        EM      DEF%\n",
       "1       Feather  5       ATK      ATK%      DEF%        CD       DEF\n",
       "2        Flower  4        HP       DEF      DEF%        ER       NaN\n",
       "3        Flower  4        HP        ER        EM        CR       NaN\n",
       "4        Goblet  4       HP%        ER        EM      DEF%       NaN"
      ]
     },
     "execution_count": 490,
     "metadata": {},
     "output_type": "execute_result"
    }
   ],
   "source": [
    "# Open file\n",
    "acheron_x_file = 'artdrops.xlsx'\n",
    "acheron_x_df = pd.read_excel(acheron_x_file)\n",
    "\n",
    "# Clean dataframe\n",
    "dictio = {}\n",
    "dictio2 = {}\n",
    "for i in acheron_x_df.columns:\n",
    "    dictio[i] = acheron_x_df[i][1]\n",
    "for i in range(df.shape[0]):\n",
    "    dictio2[i+2] = i\n",
    "\n",
    "acheron_x_df = acheron_x_df.rename(columns=dictio, index=dictio2)\n",
    "acheron_x_df = acheron_x_df.iloc[2:,1:8]\n",
    "acheron_x_df.head()"
   ]
  },
  {
   "cell_type": "markdown",
   "metadata": {},
   "source": [
    "## Operations"
   ]
  },
  {
   "cell_type": "code",
   "execution_count": 529,
   "metadata": {},
   "outputs": [],
   "source": [
    "def get_type_total(tp, artifact_df):\n",
    "    \"\"\"\n",
    "    Return the total number of ocurrences of a certain type of artifact\n",
    "    \n",
    "    tp: String of the type of artifact\n",
    "    artifact_df: Dataframe to extract the data\n",
    "    Reutrn -> type_total\n",
    "    \"\"\"\n",
    "    type_total = artifact_df.loc[artifact_df['Artifact Type'] == tp].shape[0]\n",
    "    return type_total\n",
    "    \n",
    "\n",
    "def get_sub_stat_total(stat, artifact_df):\n",
    "    \"\"\"\n",
    "    Return the total number of ocurrences of a certain sub stat\n",
    "    \n",
    "    stat: String of the desired stat\n",
    "    artifact_df: Dataframe to extract the data\n",
    "    Reutrn -> stat_total\n",
    "    \"\"\"\n",
    "    stat_total =  artifact_df.loc[artifact_df['Substat 1'] == stat].shape[0]\n",
    "    stat_total += artifact_df.loc[artifact_df['Substat 2'] == stat].shape[0]\n",
    "    stat_total += artifact_df.loc[artifact_df['Substat 3'] == stat].shape[0]\n",
    "    stat_total += artifact_df.loc[artifact_df['Substat 4'] == stat].shape[0]\n",
    "    return stat_total\n",
    "\n",
    "\n",
    "def get_main_stat_total(stat, artifact_df):\n",
    "    \"\"\"\n",
    "    Return the total number of ocurrences of a certain main stat\n",
    "    \n",
    "    stat: String of the desired stat\n",
    "    artifact_df: Dataframe to extract the data\n",
    "    Reutrn -> stat_total\n",
    "    \"\"\"\n",
    "    stat_total =  artifact_df.loc[artifact_df['Main Stat'] == stat].shape[0]\n",
    "    return stat_total\n",
    "\n",
    "\n",
    "def get_all_sub_stats(artifact_df):\n",
    "    \"\"\"\n",
    "    Return a list of all the posible sub stats excluding NaNs\n",
    "    \n",
    "    artifact_df: Dataframe to extract the data\n",
    "    Reutrn -> return_list\n",
    "    \"\"\"\n",
    "    sub_stats = list(artifact_df['Substat 1'])\n",
    "    sub_stats += list(artifact_df['Substat 2'])\n",
    "    sub_stats += list(artifact_df['Substat 3'])\n",
    "    sub_stats += list(artifact_df['Substat 4'])\n",
    "    sub_stats = list(set(sub_stats))\n",
    "    list_clean = [x for x in sub_stats if x == x]\n",
    "    return_list = []\n",
    "    for i in list_clean:\n",
    "        if i != 'Phys%' and i != 'Ele%' and i != 'Heal':\n",
    "            i = i.upper()\n",
    "        return_list.append(i)\n",
    "    return return_list\n",
    "\n",
    "\n",
    "def get_all_main_stats(artifact_df):\n",
    "    \"\"\"\n",
    "    Return a list of all the posible main stats excluding NaNs\n",
    "    \n",
    "    artifact_df: Dataframe to extract the data\n",
    "    Reutrn -> return_list\n",
    "    \"\"\"\n",
    "    main_stats = list(artifact_df['Main Stat'])\n",
    "    main_stats = list(set(main_stats))\n",
    "    list_clean = [x for x in main_stats if x == x]\n",
    "    return_list = []\n",
    "    for i in list_clean:\n",
    "        if i != 'Phys%' and i != 'Ele%' and i != 'Heal':\n",
    "            i = i.upper()\n",
    "        return_list.append(i)\n",
    "    return return_list\n",
    "\n",
    "\n",
    "def df_create_sgc(art):\n",
    "    \"\"\"\n",
    "    Returns a dataframe with the data of 1 type of artifact (3★, 4★ and 5★ %, each stat probability, etc.)\n",
    "    \n",
    "    art: String of the type of artifact\n",
    "    Reutrn -> artifact\n",
    "    \"\"\"\n",
    "    artifact_df = acheron_x_df.loc[acheron_x_df['Artifact Type'] == art]\n",
    "    stars_3 = artifact_df.loc[artifact_df['★'] == 3].shape[0]\n",
    "    stars_4 = artifact_df.loc[artifact_df['★'] == 4].shape[0]\n",
    "    stars_5 = artifact_df.loc[artifact_df['★'] == 5].shape[0]\n",
    "    total = stars_3 + stars_4 + stars_5\n",
    "    \n",
    "    df_main_stats = get_all_main_stats(artifact_df)\n",
    "    df_sub_stats = get_all_sub_stats(artifact_df)\n",
    "    all_stats = list(set(df_main_stats + df_sub_stats))\n",
    "    df_columns = ['Total Smaple', '4★%', '5★%'] + all_stats\n",
    "    df_dict = {df_columns[0]: [total, '-'], df_columns[1]: [stars_3/total, '-']}\n",
    "    df_dict.update({df_columns[2]: [stars_4/total, '-'], df_columns[3]: [stars_5/total, '-']})\n",
    "    \n",
    "    for i in df_columns[4:]:\n",
    "        if i in df_main_stats and i in df_sub_stats:\n",
    "            df_dict[i] = [get_main_stat_total(i, artifact_df)/total, get_sub_stat_total(i, artifact_df)/total]\n",
    "        elif i in df_main_stats and not i in df_sub_stats:\n",
    "            df_dict[i] = [get_main_stat_total(i, artifact_df)/total, '-']\n",
    "        elif not i in df_main_stats and i in df_sub_stats:\n",
    "            df_dict[i] = ['-', get_sub_stat_total(i, artifact_df)/total]\n",
    "    artifact = pd.DataFrame(df_dict, index = ['Main Stats', 'Sub Stats'])\n",
    "    artifact.index.name = art\n",
    "    return artifact"
   ]
  },
  {
   "cell_type": "code",
   "execution_count": 530,
   "metadata": {},
   "outputs": [],
   "source": [
    "def calc_prob(artifact, main_stat, sub_stat_list):\n",
    "    \"\"\"\n",
    "    Return the probability (x1, not %) of an artifact\n",
    "    \n",
    "    artifact: String of the type of artifact\n",
    "    main_stat: String of the main stat of the wanted artifact\n",
    "    sub_stat_list: List of strings of the desired sub stats for an artifact\n",
    "    Return -> sub_stat_prob*main_stat_prob\n",
    "    \"\"\"\n",
    "    df_artifact = df_create_sgc(artifact)\n",
    "    sub_stat_list = list(set(sub_stat_list))\n",
    "    main_stat_prob = 1\n",
    "    sub_stat_prob = 1\n",
    "    \n",
    "    if artifact[0] == 'F' and main_stat:\n",
    "        return '{} only has 1 posible main stat, please leave main stat field empty'.format(artifact)\n",
    "    if main_stat in sub_stat_list:\n",
    "        return \"An artifact can't have a substat that is the same as the main stat\"\n",
    "    if artifact[0] != 'F':\n",
    "        if main_stat != '' and df_artifact[main_stat]['Main Stats'] != '-':\n",
    "            main_stat_prob *= df_artifact[main_stat]['Main Stats']\n",
    "\n",
    "    for i in sub_list:\n",
    "        sub_stat_prob *= df_artifact[i]['Sub Stats']\n",
    "    return sub_stat_prob*main_stat_prob\n",
    "\n",
    "\n",
    "def calc_resin(prob):\n",
    "    \"\"\"\n",
    "    Return a list of the suposed number of runs and its resin cost\n",
    "    \n",
    "    prob: Probaility of getting a certain artifact\n",
    "    Return -> [runs_to1, runs_to1*20]\n",
    "    \"\"\"\n",
    "    runs_to1 = math.ceil(1/prob)\n",
    "    return [runs_to1, runs_to1*20]\n",
    "\n",
    "\n",
    "def calc_days(resin):\n",
    "    \"\"\"\n",
    "    Return a list of the number of days to use a quantity of resin \n",
    "    \n",
    "    resin: Quantity of resin (int)\n",
    "    Return -> days\n",
    "    \"\"\"\n",
    "    days = list()\n",
    "    \n",
    "    # 160 Resin x Day:\n",
    "    days.append(math.ceil(resin/160))\n",
    "    \n",
    "    # 180 Resin x Day:\n",
    "    days.append(math.ceil(resin/180))\n",
    "    \n",
    "    return days\n",
    "\n",
    "\n",
    "def results(artifact, main_stat, sub_list):\n",
    "    \"\"\"\n",
    "    Prints the results of all the operations\n",
    "    \n",
    "    artifact: String of the type of the artifact\n",
    "    main_stat: String of the main stat of an artifact\n",
    "    sub_list: List of strings of the desired sub stats for an artifact\n",
    "    Void\n",
    "    \"\"\"\n",
    "    print('Artifact Objective: \\n\\t- Type: {}\\n\\t- Main Stat: {}\\n\\t- Sub Stats: {}'.format(artifact, main_stat, sub_list))\n",
    "    \n",
    "    # Probability of a certain artifact\n",
    "    prob = calc_prob(artifact, main_stat, sub_list)\n",
    "    print('- Probability: {:.4f}%'.format(prob*100))\n",
    "\n",
    "    # Resin cost\n",
    "    runs, resin = calc_resin(prob)\n",
    "    print('- It takes {} runs and that is {} resin'.format(runs, resin))\n",
    "\n",
    "    # Days count\n",
    "    days = calc_days(resin)\n",
    "    print('- That means:\\n\\t- {} days spending 160 resin x day\\n\\t- {} days spending 180 resin x day'. format(days[0], days[1]))\n",
    "\n",
    "def calc_full_set(role, phys = False):\n",
    "    \"\"\"\n",
    "    Prints the results of all operations for a full set of artifacts\n",
    "    \n",
    "    role: String with the role of the set\n",
    "    phys: Boolean that indicates if the goblet is Physical% or Elemental% (For DPS)\n",
    "    Void\n",
    "    \"\"\"\n",
    "    artifacts = ['Flower', 'Feather', 'Sands', 'Goblet', 'Circlet']\n",
    "    days = [0, 0]\n",
    "    resin_total = 0\n",
    "    runs_total = 0\n",
    "    if role == 'DPS':\n",
    "        main_stats = ['', '', 'ATK%', 'Ele%', 'CD']\n",
    "        sub_stats = [['CD', 'CR', 'ATK%'], ['CD', 'CR', 'ATK%'], ['CD', 'CR'], ['CD', 'CR', 'ATK%'], ['CR', 'ATK%']]\n",
    "        if phys == True:\n",
    "            main_sats[3] = 'Phys%'\n",
    "    \n",
    "    for i in range(len(artifacts)):\n",
    "        prob = calc_prob(artifacts[i], main_stats[i], sub_stats[i])\n",
    "        runs, resin = calc_resin(prob)\n",
    "        resin_total += resin\n",
    "        runs_total += runs\n",
    "        days_tmp = calc_days(resin)\n",
    "        days[0] += days_tmp[0]\n",
    "        days[1] += days_tmp[1]\n",
    "    phy = 'elemental' if phys == False else 'physical'\n",
    "\n",
    "    print('To get a default DPS build with {} DMG bonus on Goblet:\\n'.format(phy))\n",
    "    print('It takes {} runs and that is {} resin'.format(runs_total, resin_total))\n",
    "    print('That means:\\n\\t- {} days spending 160 resin x day\\n\\t- {} days spending 180 resin x day'.format(days[0], days[1]))"
   ]
  },
  {
   "cell_type": "markdown",
   "metadata": {},
   "source": [
    "## Results "
   ]
  },
  {
   "cell_type": "code",
   "execution_count": 531,
   "metadata": {},
   "outputs": [
    {
     "name": "stdout",
     "output_type": "stream",
     "text": [
      "Artifact Objective: \n",
      "\t- Type: Goblet\n",
      "\t- Main Stat: Ele%\n",
      "\t- Sub Stats: ['CD', 'CR', 'ATK%']\n",
      "- Probability: 0.2089%\n",
      "- It takes 479 runs and that is 9580 resin\n",
      "- That means:\n",
      "\t- 60 days spending 160 resin x day\n",
      "\t- 54 days spending 180 resin x day\n"
     ]
    }
   ],
   "source": [
    "# Results of a single artifact\n",
    "artifact = 'Goblet'\n",
    "main_stat = 'Ele%'\n",
    "sub_list=['CD', 'CR', 'ATK%']\n",
    "\n",
    "results(artifact, main_stat, sub_list)"
   ]
  },
  {
   "cell_type": "code",
   "execution_count": 532,
   "metadata": {},
   "outputs": [
    {
     "name": "stdout",
     "output_type": "stream",
     "text": [
      "To get a default DPS build with elemental DMG bonus on Goblet:\n",
      "\n",
      "It takes 3210 runs and that is 64200 resin\n",
      "That means:\n",
      "\t- 403 days spending 160 resin x day\n",
      "\t- 359 days spending 180 resin x day\n"
     ]
    }
   ],
   "source": [
    "# Results of a set of artifacts (5 different pieces)\n",
    "calc_full_set('DPS')"
   ]
  },
  {
   "cell_type": "markdown",
   "metadata": {},
   "source": [
    "## Plots\n",
    "\n",
    "### Main Stat plot"
   ]
  },
  {
   "cell_type": "code",
   "execution_count": 533,
   "metadata": {},
   "outputs": [
    {
     "data": {
      "image/png": "[encoded data removed]",
      "text/plain": [
       "<Figure size 432x288 with 1 Axes>"
      ]
     },
     "metadata": {
      "needs_background": "light"
     },
     "output_type": "display_data"
    },
    {
     "name": "stdout",
     "output_type": "stream",
     "text": [
      "{'Ele%': 192, 'ATK%': 388, 'ER': 52, 'CR': 58, 'Heal': 40, 'DEF%': 413, 'HP%': 399, 'Phys%': 25, 'EM': 94, 'CD': 57}\n"
     ]
    }
   ],
   "source": [
    "not_main_stats = ['ATK', 'HP']\n",
    "all_main_stats = [x for x in get_all_main_stats(acheron_x_df) if x not in not_main_stats]\n",
    "stats = [get_main_stat_total(i, acheron_x_df) for i in all_main_stats]\n",
    "plt.bar(all_main_stats, stats)  \n",
    "plt.xticks(rotation=90)\n",
    "plt.show()\n",
    "\n",
    "zip_iterator = zip(all_main_stats, stats)\n",
    "numbers = dict(zip_iterator)\n",
    "print(numbers)"
   ]
  },
  {
   "cell_type": "markdown",
   "metadata": {},
   "source": [
    "### Sub Stat plot"
   ]
  },
  {
   "cell_type": "code",
   "execution_count": 534,
   "metadata": {},
   "outputs": [
    {
     "data": {
      "image/png": "[encoded data removed]",
      "text/plain": [
       "<Figure size 432x288 with 1 Axes>"
      ]
     },
     "metadata": {
      "needs_background": "light"
     },
     "output_type": "display_data"
    },
    {
     "name": "stdout",
     "output_type": "stream",
     "text": [
      "{'ATK': 687, 'HP': 640, 'DEF': 850, 'ATK%': 513, 'CR': 450, 'ER': 517, 'EM': 529, 'DEF%': 502, 'HP%': 513, 'CD': 443}\n"
     ]
    }
   ],
   "source": [
    "not_sub_stats = ['Phys%', 'Ele%', 'Heal']\n",
    "all_sub_stats = [x for x in get_all_sub_stats(acheron_x_df) if x not in not_sub_stats]\n",
    "stats = [get_sub_stat_total(i, acheron_x_df) for i in all_main_stats]\n",
    "plt.bar(all_sub_stats, stats)  \n",
    "plt.xticks(rotation=90)\n",
    "plt.show()\n",
    "\n",
    "zip_iterator = zip(all_sub_stats, stats)\n",
    "numbers = dict(zip_iterator)\n",
    "print(numbers)"
   ]
  },
  {
   "cell_type": "markdown",
   "metadata": {},
   "source": [
    "### Artifact Type Plot"
   ]
  },
  {
   "cell_type": "code",
   "execution_count": 537,
   "metadata": {},
   "outputs": [
    {
     "data": {
      "image/png": "[encoded data removed]",
      "text/plain": [
       "<Figure size 432x288 with 1 Axes>"
      ]
     },
     "metadata": {
      "needs_background": "light"
     },
     "output_type": "display_data"
    },
    {
     "name": "stdout",
     "output_type": "stream",
     "text": [
      "{'Flower': 530, 'Feather': 479, 'Sands': 563, 'Goblet': 587, 'Circlet': 568}\n"
     ]
    }
   ],
   "source": [
    "all_types = ['Flower', 'Feather', 'Sands', 'Goblet', 'Circlet']\n",
    "total_types = [get_type_total(i, acheron_x_df) for i in all_types]\n",
    "plt.bar(all_types, total_types)  \n",
    "plt.xticks(rotation=90)\n",
    "plt.show()\n",
    "\n",
    "zip_iterator = zip(all_types, total_types)\n",
    "numbers = dict(zip_iterator)\n",
    "print(numbers)"
   ]
  },
  {
   "cell_type": "markdown",
   "metadata": {},
   "source": [
    "## Conclusions\n",
    "To get and complet set of \"good\" artifacts (Flower, Feather, Sands, Goblet and Circlet) is hard for f2p people. It takes almost a year to farm those 5 artifacts and more than 63k resin, and just to build 1 character.  \n",
    "The sample size is of about 2700 artifcat drops so even if it's not super large I think is at least big enough to make some simple statistics like I did.  \n",
    "  \n",
    "Clearly this is a problem. 1 years to farm a good set? (And this data takes in count some 3★ artifacts and excludes enhancement rolls). I hope MiHoYo fixes this.\n",
    "  \n",
    "Also, the rng is weighted. In the plots is obvious that we're getting more artifacts with DEF% and HP% as main stats. In the case of sub stats is worse, the DEF drop in this sample is a lot higher than the others stats and the other 2 flat sub stats are more abundant the the other stats. And even if I didn't take in count rolls during enhancement, it will roll in HP and DEF flat...\n",
    "    \n",
    "    \n",
    "    \n",
    "    "
   ]
  },
  {
   "cell_type": "markdown",
   "metadata": {},
   "source": [
    "As I said in the beggining, thanks for Acheron-X and the people from the \"Data Gathering | Genshin Impact\" Discord server (https://discord.gg/ydwdYmr)"
   ]
  },
  {
   "cell_type": "markdown",
   "metadata": {},
   "source": [
    "<div style=\"text-align: right\"> - daload </div>"
   ]
  }
 ],
 "metadata": {
  "kernelspec": {
   "display_name": "Python 3",
   "language": "python",
   "name": "python3"
  },
  "language_info": {
   "codemirror_mode": {
    "name": "ipython",
    "version": 3
   },
   "file_extension": ".py",
   "mimetype": "text/x-python",
   "name": "python",
   "nbconvert_exporter": "python",
   "pygments_lexer": "ipython3",
   "version": "3.8.5"
  }
 },
 "nbformat": 4,
 "nbformat_minor": 4
}
